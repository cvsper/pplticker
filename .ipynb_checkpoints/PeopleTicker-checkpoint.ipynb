{
 "cells": [
  {
   "cell_type": "markdown",
   "metadata": {},
   "source": [
    "# Code Overview:\n",
    "* Get urls from target and append them into an empty array.\n",
    "* Loop through each url in list to get data.\n",
    "* Send data to nested dictionary so it can be converted into json data.\n",
    "* Populate file with json data results."
   ]
  },
  {
   "cell_type": "markdown",
   "metadata": {},
   "source": [
    "### First let's start off by importing the modules we'll be using."
   ]
  },
  {
   "cell_type": "code",
   "execution_count": 1,
   "metadata": {},
   "outputs": [],
   "source": [
    "import requests\n",
    "import json\n",
    "from bs4 import BeautifulSoup as bs"
   ]
  },
  {
   "cell_type": "markdown",
   "metadata": {},
   "source": [
    "### Set the target urls you'd like to scrape."
   ]
  },
  {
   "cell_type": "code",
   "execution_count": 2,
   "metadata": {},
   "outputs": [],
   "source": [
    "url = 'https://www.epmag.com/jobs/warehouse-inventory-auditor-73?page='\n",
    "href_og = 'https://www.epmag.com'"
   ]
  },
  {
   "cell_type": "markdown",
   "metadata": {},
   "source": [
    "### Make an empty array that will later be populated with  urls from each listing on the page."
   ]
  },
  {
   "cell_type": "code",
   "execution_count": 3,
   "metadata": {},
   "outputs": [],
   "source": [
    "url_list = []"
   ]
  },
  {
   "cell_type": "markdown",
   "metadata": {},
   "source": [
    "### We can get started on building out a function that will populate our list with urls."
   ]
  },
  {
   "cell_type": "code",
   "execution_count": 4,
   "metadata": {},
   "outputs": [],
   "source": [
    "def get_url():\n",
    "    \n",
    "    # variable pages is just to specify how many pages you want.\n",
    "    pages = raw_input('How many pages would you like to scrape?: ')\n",
    "    \n",
    "    # I'll make a loop that will go through each page specified.\n",
    "    for page in xrange(int(pages)):\n",
    "        r = requests.get(url + str(page))\n",
    "        \n",
    "        # parse the page with BeautfulSoup\n",
    "        soup = bs(r.content, 'lxml')\n",
    "        \n",
    "        # we now that we have our parsed page lets define our links.\n",
    "        links1 = soup.find_all('div', {'class' : 'views-row views-row-1 views-row-odd views-row-first'})\n",
    "        links2 = soup.find_all('div', {'class' : 'views-row views-row-2 views-row-even'})\n",
    "        links3 = soup.find_all('div', {'class' : 'views-row views-row-3 views-row-odd'})\n",
    "        links4 = soup.find_all('div', {'class' : 'views-row views-row-4 views-row-even'})\n",
    "        links5 = soup.find_all('div', {'class' : 'views-row views-row-5 views-row-odd'})\n",
    "        links6 = soup.find_all('div', {'class' : 'views-row views-row-6 views-row-even'})\n",
    "        links7 = soup.find_all('div', {'class' : 'views-row views-row-7 views-row-odd'})\n",
    "        links8 = soup.find_all('div', {'class' : 'views-row views-row-8 views-row-even'})\n",
    "        links9 = soup.find_all('div', {'class' : 'views-row views-row-9 views-row-odd'})\n",
    "        links10 = soup.find_all('div', {'class' : 'views-row views-row-10 views-row-even views-row-last'})\n",
    "        \n",
    "        # lets make an array for our links\n",
    "        links = [links1, links2, links3, links4, links5, links6, links7, links8, links9, links10]\n",
    "        \n",
    "        \n",
    "        \n",
    "        # iterate through our array and append each url to our empty array url_list\n",
    "        for x in xrange(10):\n",
    "            for link in links[x - 1]:\n",
    "                href = link.find_all('a')\n",
    "                for x in href:\n",
    "                    url_list.append( href_og + str(x.get('href')))\n",
    "                    \n",
    "        # just to let us know the code is working we'll print 'done' after each successful scrape\n",
    "        print('Done')"
   ]
  },
  {
   "cell_type": "markdown",
   "metadata": {},
   "source": [
    "### Lets run our function to see if it works."
   ]
  },
  {
   "cell_type": "code",
   "execution_count": 5,
   "metadata": {},
   "outputs": [
    {
     "name": "stdout",
     "output_type": "stream",
     "text": [
      "How many pages would you like to scrape?: 5\n",
      "Done\n",
      "Done\n",
      "Done\n",
      "Done\n",
      "Done\n"
     ]
    }
   ],
   "source": [
    "get_url()"
   ]
  },
  {
   "cell_type": "markdown",
   "metadata": {},
   "source": [
    "### Check our list"
   ]
  },
  {
   "cell_type": "code",
   "execution_count": 18,
   "metadata": {},
   "outputs": [
    {
     "name": "stdout",
     "output_type": "stream",
     "text": [
      "There are 50 urls in your list.\n",
      "With 10 urls per page you have scraped 5 pages.\n",
      "\n",
      "Here are the first 5 urls:\n",
      "https://www.epmag.com/jobs/planning-engineer-31\n",
      "https://www.epmag.com/jobs/senior-contract-specialist\n",
      "https://www.epmag.com/jobs/chemical-engineer-5\n",
      "https://www.epmag.com/jobs/electronics-engineer-pcb-design-engineer\n",
      "https://www.epmag.com/jobs/associate-materials-control-specialist-1\n"
     ]
    }
   ],
   "source": [
    "print('There are ' + str(len(url_list)) + \" urls in your list.\")\n",
    "print(\"With 10 urls per page you have scraped \" + str(len(url_list) / 10) + \" pages.\" + \"\\n\")\n",
    "print(\"Here are the first 5 urls:\")\n",
    "for x in xrange(5): print(url_list[x])"
   ]
  },
  {
   "cell_type": "markdown",
   "metadata": {},
   "source": [
    "### Next function will make a get requests to each url in url_list and scrape the data we need."
   ]
  },
  {
   "cell_type": "code",
   "execution_count": 6,
   "metadata": {},
   "outputs": [],
   "source": [
    "def get_data():\n",
    "    \n",
    "    # Define a dictionary that we will populate later with or data\n",
    "    data_json = {}\n",
    "    \n",
    "    # Loop through url_list and get the details you need per url.\n",
    "    for url in range(len(url_list)):\n",
    "        r = requests.get(url_list[url])\n",
    "        soups = BeautifulSoup(r.content, 'lxml')\n",
    "        title = soups.find_all('h1', {'class' : 'page-header'})\n",
    "        company = soups.find_all('div', {'class' : 'field field-name-field-job-company field-type-text field-label-above'})\n",
    "        description = soups.find_all('div', {'id' : 'job-description'})\n",
    "        location = soups.find_all('div', {'class' : 'field field-name-field-job-location field-type-text field-label-above'})\n",
    "        industry = soups.find_all('div', {'class' : 'field field-name-field-job-category field-type-text field-label-above'})\n",
    "        rate = soups.find_all('div', {'class' : 'field field-name-field-job-salary field-type-text field-label-above'})\n",
    "        frequency = soups.find_all('div', {'class' : 'field field-name-field-job-jobtype field-type-text field-label-above'})\n",
    "        \n",
    "        data_list = []\n",
    "        \n",
    "        for x in title:\n",
    "            titles = x.text\n",
    "\n",
    "        for x in company:\n",
    "            company = x.text\n",
    "            data_list.append({'company' : company.replace('\\n', '').encode('ascii','ignore').replace('Company', '')})\n",
    "\n",
    "        for x in description:\n",
    "            description = x.text\n",
    "            data_list.append({'description' : description.replace('\\n', '').encode('ascii','ignore')})\n",
    "\n",
    "        for x in location:\n",
    "            location = x.text\n",
    "            data_list.append({'location' : location.replace('\\n', '').encode('ascii','ignore').replace('Location', '')})\n",
    "            \n",
    "        for x in industry:\n",
    "            industry = x.text\n",
    "            data_list.append({'industry' : industry.replace('\\n', '').encode('ascii','ignore').replace('Category', '')})\n",
    "            \n",
    "        for x in rate:\n",
    "            rate = x.text\n",
    "            data_list.append({'rate' : rate.replace('\\n', '').encode('ascii','ignore').replace('Salary', '')})\n",
    "            \n",
    "        for x in frequency:\n",
    "            frequency = x.text\n",
    "            data_list.append({'frequency' : frequency.replace('\\n', '').encode('ascii','ignore').replace('Job Type', '')})\n",
    "            \n",
    "        # Turn data into json format and write your results to a json file.\n",
    "        data_json[str(titles.encode('ascii','ignore'))] = data_list\n",
    "        file = open('epmag.json','w')\n",
    "        json.dump(data_json, file, indent=2)\n",
    "    file.close()\n",
    "    "
   ]
  },
  {
   "cell_type": "markdown",
   "metadata": {},
   "source": [
    "## Changes to I make this better?"
   ]
  },
  {
   "cell_type": "markdown",
   "metadata": {},
   "source": [
    "* Adding a celery worker.\n",
    "* Creating object instead of two funtions.\n",
    "* Store data into mysql database or s3 bucket and pull from there.\n",
    "* Minimize the amount of lines of code used."
   ]
  }
 ],
 "metadata": {
  "kernelspec": {
   "display_name": "Python 2",
   "language": "python",
   "name": "python2"
  },
  "language_info": {
   "codemirror_mode": {
    "name": "ipython",
    "version": 2
   },
   "file_extension": ".py",
   "mimetype": "text/x-python",
   "name": "python",
   "nbconvert_exporter": "python",
   "pygments_lexer": "ipython2",
   "version": "2.7.10"
  }
 },
 "nbformat": 4,
 "nbformat_minor": 2
}
